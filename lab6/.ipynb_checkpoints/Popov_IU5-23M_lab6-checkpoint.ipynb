{
 "cells": [
  {
   "cell_type": "markdown",
   "metadata": {},
   "source": [
    "# Popov I.A. IU5-23M lab6"
   ]
  },
  {
   "cell_type": "raw",
   "metadata": {},
   "source": [
    "Задание:\n",
    "    1.Подготовить датасет графовых данных\n",
    "    2.Подобрать модель и гиперпараметры обучения для получения качества AUC > 0.65"
   ]
  },
  {
   "cell_type": "code",
   "execution_count": 1,
   "metadata": {},
   "outputs": [],
   "source": [
    "import numpy as np\n",
    "import pandas as pd"
   ]
  },
  {
   "cell_type": "code",
   "execution_count": 7,
   "metadata": {},
   "outputs": [],
   "source": [
    "train = pd.read_csv('train.txt', sep='\\t', names=['entity1id','relationid', 'entity2_id'])\n",
    "test = pd.read_csv('test.txt', sep='\\t', names=['entity1id','relationid', 'entity2_id'])\n",
    "valid = pd.read_csv('valid.txt', sep='\\t', names=['entity1id','relationid', 'entity2_id'])\n",
    "entity = pd.read_csv('all_entity_info.txt', sep='\\t')"
   ]
  },
  {
   "cell_type": "code",
   "execution_count": 6,
   "metadata": {},
   "outputs": [
    {
     "data": {
      "text/html": [
       "<div>\n",
       "<style scoped>\n",
       "    .dataframe tbody tr th:only-of-type {\n",
       "        vertical-align: middle;\n",
       "    }\n",
       "\n",
       "    .dataframe tbody tr th {\n",
       "        vertical-align: top;\n",
       "    }\n",
       "\n",
       "    .dataframe thead th {\n",
       "        text-align: right;\n",
       "    }\n",
       "</style>\n",
       "<table border=\"1\" class=\"dataframe\">\n",
       "  <thead>\n",
       "    <tr style=\"text-align: right;\">\n",
       "      <th></th>\n",
       "      <th>entity1id</th>\n",
       "      <th>relationid</th>\n",
       "      <th>entity2_id</th>\n",
       "    </tr>\n",
       "  </thead>\n",
       "  <tbody>\n",
       "    <tr>\n",
       "      <th>0</th>\n",
       "      <td>1094A75A</td>\n",
       "      <td>author_write_paper</td>\n",
       "      <td>79849086</td>\n",
       "    </tr>\n",
       "    <tr>\n",
       "      <th>1</th>\n",
       "      <td>80D97A1B</td>\n",
       "      <td>paper_in_domain</td>\n",
       "      <td>01E7DD16</td>\n",
       "    </tr>\n",
       "    <tr>\n",
       "      <th>2</th>\n",
       "      <td>7A074A4D</td>\n",
       "      <td>paper_in_domain</td>\n",
       "      <td>09064767</td>\n",
       "    </tr>\n",
       "    <tr>\n",
       "      <th>3</th>\n",
       "      <td>7F8038BA</td>\n",
       "      <td>author_write_paper</td>\n",
       "      <td>7EFE7A73</td>\n",
       "    </tr>\n",
       "    <tr>\n",
       "      <th>4</th>\n",
       "      <td>7E9EF4DA</td>\n",
       "      <td>paper_in_domain</td>\n",
       "      <td>04984686</td>\n",
       "    </tr>\n",
       "  </tbody>\n",
       "</table>\n",
       "</div>"
      ],
      "text/plain": [
       "  entity1id          relationid entity2_id\n",
       "0  1094A75A  author_write_paper   79849086\n",
       "1  80D97A1B     paper_in_domain   01E7DD16\n",
       "2  7A074A4D     paper_in_domain   09064767\n",
       "3  7F8038BA  author_write_paper   7EFE7A73\n",
       "4  7E9EF4DA     paper_in_domain   04984686"
      ]
     },
     "execution_count": 6,
     "metadata": {},
     "output_type": "execute_result"
    }
   ],
   "source": [
    "valid.head()"
   ]
  },
  {
   "cell_type": "code",
   "execution_count": 8,
   "metadata": {},
   "outputs": [
    {
     "data": {
      "text/html": [
       "<div>\n",
       "<style scoped>\n",
       "    .dataframe tbody tr th:only-of-type {\n",
       "        vertical-align: middle;\n",
       "    }\n",
       "\n",
       "    .dataframe tbody tr th {\n",
       "        vertical-align: top;\n",
       "    }\n",
       "\n",
       "    .dataframe thead th {\n",
       "        text-align: right;\n",
       "    }\n",
       "</style>\n",
       "<table border=\"1\" class=\"dataframe\">\n",
       "  <thead>\n",
       "    <tr style=\"text-align: right;\">\n",
       "      <th></th>\n",
       "      <th>id</th>\n",
       "      <th>name</th>\n",
       "      <th>type</th>\n",
       "    </tr>\n",
       "  </thead>\n",
       "  <tbody>\n",
       "    <tr>\n",
       "      <th>0</th>\n",
       "      <td>7C7CAEED</td>\n",
       "      <td>On rank correlation in information retrieval e...</td>\n",
       "      <td>paper</td>\n",
       "    </tr>\n",
       "    <tr>\n",
       "      <th>1</th>\n",
       "      <td>7AEE29E3</td>\n",
       "      <td>The Voting Model for People Search</td>\n",
       "      <td>paper</td>\n",
       "    </tr>\n",
       "    <tr>\n",
       "      <th>2</th>\n",
       "      <td>7D68490B</td>\n",
       "      <td>Document clustering with committees</td>\n",
       "      <td>paper</td>\n",
       "    </tr>\n",
       "    <tr>\n",
       "      <th>3</th>\n",
       "      <td>7A488256</td>\n",
       "      <td>A comparison of indexing techniques for Japane...</td>\n",
       "      <td>paper</td>\n",
       "    </tr>\n",
       "    <tr>\n",
       "      <th>4</th>\n",
       "      <td>7D5CD2DF</td>\n",
       "      <td>Feature selection for ranking</td>\n",
       "      <td>paper</td>\n",
       "    </tr>\n",
       "  </tbody>\n",
       "</table>\n",
       "</div>"
      ],
      "text/plain": [
       "         id                                               name   type\n",
       "0  7C7CAEED  On rank correlation in information retrieval e...  paper\n",
       "1  7AEE29E3                 The Voting Model for People Search  paper\n",
       "2  7D68490B                Document clustering with committees  paper\n",
       "3  7A488256  A comparison of indexing techniques for Japane...  paper\n",
       "4  7D5CD2DF                      Feature selection for ranking  paper"
      ]
     },
     "execution_count": 8,
     "metadata": {},
     "output_type": "execute_result"
    }
   ],
   "source": [
    "entity.head()"
   ]
  },
  {
   "cell_type": "code",
   "execution_count": 9,
   "metadata": {},
   "outputs": [
    {
     "name": "stdout",
     "output_type": "stream",
     "text": [
      "(3670, 3)\n",
      "(16362, 3)\n"
     ]
    }
   ],
   "source": [
    "print(valid.shape)\n",
    "print(entity.shape)"
   ]
  }
 ],
 "metadata": {
  "kernelspec": {
   "display_name": "Python 3",
   "language": "python",
   "name": "python3"
  },
  "language_info": {
   "codemirror_mode": {
    "name": "ipython",
    "version": 3
   },
   "file_extension": ".py",
   "mimetype": "text/x-python",
   "name": "python",
   "nbconvert_exporter": "python",
   "pygments_lexer": "ipython3",
   "version": "3.7.5"
  }
 },
 "nbformat": 4,
 "nbformat_minor": 4
}
