{
 "cells": [
  {
   "cell_type": "markdown",
   "metadata": {},
   "source": [
    "Попов Илья Андреевич\n",
    "ИУ5-23М\n",
    "Вариант 10"
   ]
  },
  {
   "cell_type": "code",
   "execution_count": 1,
   "metadata": {},
   "outputs": [],
   "source": [
    "import numpy as np\n",
    "import pandas as pd\n",
    "import seaborn as sns\n",
    "import matplotlib.pyplot as plt\n",
    "from sklearn.impute import SimpleImputer\n",
    "from sklearn.preprocessing import MinMaxScaler\n",
    "%matplotlib inline \n",
    "sns.set(style=\"ticks\")"
   ]
  },
  {
   "cell_type": "code",
   "execution_count": 2,
   "metadata": {},
   "outputs": [],
   "source": [
    "raw_data = pd.read_csv('traffic_violaions.csv', sep=',')"
   ]
  },
  {
   "cell_type": "code",
   "execution_count": 3,
   "metadata": {},
   "outputs": [
    {
     "data": {
      "text/plain": [
       "['stop_time',\n",
       " 'country_name',\n",
       " 'driver_gender',\n",
       " 'driver_age_raw',\n",
       " 'driver_age',\n",
       " 'driver_race',\n",
       " 'violation_raw',\n",
       " 'violation',\n",
       " 'search_conducted',\n",
       " 'search_type',\n",
       " 'stop_outcome',\n",
       " 'is_arrested',\n",
       " 'stop_duration',\n",
       " 'drugs_related_stop']"
      ]
     },
     "execution_count": 3,
     "metadata": {},
     "output_type": "execute_result"
    }
   ],
   "source": [
    "raw_data_with_na = [c for c in raw_data.columns if raw_data[c].isnull().sum() > 0]\n",
    "raw_data_with_na"
   ]
  },
  {
   "cell_type": "code",
   "execution_count": 4,
   "metadata": {},
   "outputs": [
    {
     "data": {
      "text/plain": [
       "[('stop_time', 1),\n",
       " ('country_name', 52966),\n",
       " ('driver_gender', 3386),\n",
       " ('driver_age_raw', 3378),\n",
       " ('driver_age', 3620),\n",
       " ('driver_race', 3385),\n",
       " ('violation_raw', 3385),\n",
       " ('violation', 3385),\n",
       " ('search_conducted', 1),\n",
       " ('search_type', 50881),\n",
       " ('stop_outcome', 3385),\n",
       " ('is_arrested', 3385),\n",
       " ('stop_duration', 3385),\n",
       " ('drugs_related_stop', 1)]"
      ]
     },
     "execution_count": 4,
     "metadata": {},
     "output_type": "execute_result"
    }
   ],
   "source": [
    "[(c, raw_data[c].isnull().sum()) for c in raw_data_with_na]"
   ]
  },
  {
   "cell_type": "code",
   "execution_count": 5,
   "metadata": {},
   "outputs": [
    {
     "data": {
      "text/plain": [
       "[('stop_date', dtype('O')),\n",
       " ('stop_time', dtype('O')),\n",
       " ('country_name', dtype('float64')),\n",
       " ('driver_gender', dtype('O')),\n",
       " ('driver_age_raw', dtype('float64')),\n",
       " ('driver_age', dtype('float64')),\n",
       " ('driver_race', dtype('O')),\n",
       " ('violation_raw', dtype('O')),\n",
       " ('violation', dtype('O')),\n",
       " ('search_conducted', dtype('O')),\n",
       " ('search_type', dtype('O')),\n",
       " ('stop_outcome', dtype('O')),\n",
       " ('is_arrested', dtype('O')),\n",
       " ('stop_duration', dtype('O')),\n",
       " ('drugs_related_stop', dtype('O'))]"
      ]
     },
     "execution_count": 5,
     "metadata": {},
     "output_type": "execute_result"
    }
   ],
   "source": [
    "list(zip(raw_data.columns, [i for i in raw_data.dtypes]))"
   ]
  },
  {
   "cell_type": "code",
   "execution_count": 6,
   "metadata": {},
   "outputs": [
    {
     "data": {
      "text/plain": [
       "array(['0-15 Min', '16-30 Min', '30+ Min', nan], dtype=object)"
      ]
     },
     "execution_count": 6,
     "metadata": {},
     "output_type": "execute_result"
    }
   ],
   "source": [
    "raw_data.stop_duration.unique()"
   ]
  },
  {
   "cell_type": "code",
   "execution_count": 7,
   "metadata": {
    "scrolled": true
   },
   "outputs": [],
   "source": [
    "#Задача №10\n",
    "imputed_data = raw_data.copy()\n",
    "imputer = SimpleImputer(strategy='most_frequent', fill_value=None)\n",
    "stop_duration_mstfreq = imputer.fit_transform(raw_data[['stop_duration']].values)\n",
    "imputed_data['stop_duration'] = stop_duration_mstfreq"
   ]
  },
  {
   "cell_type": "code",
   "execution_count": 8,
   "metadata": {
    "scrolled": true
   },
   "outputs": [
    {
     "data": {
      "image/png": "[encoded data removed]",
      "text/plain": [
       "<Figure size 432x288 with 1 Axes>"
      ]
     },
     "metadata": {},
     "output_type": "display_data"
    }
   ],
   "source": [
    "fig = plt.figure()\n",
    "ax = fig.add_subplot(111)\n",
    "raw_data.stop_duration.hist(bins=3, ax=ax, density=True,  color='green')\n",
    "imputed_data.stop_duration.hist(bins=3, ax=ax, color='blue', density=True)\n",
    "plt.show()"
   ]
  },
  {
   "cell_type": "code",
   "execution_count": 9,
   "metadata": {},
   "outputs": [
    {
     "data": {
      "text/html": [
       "<div>\n",
       "<style scoped>\n",
       "    .dataframe tbody tr th:only-of-type {\n",
       "        vertical-align: middle;\n",
       "    }\n",
       "\n",
       "    .dataframe tbody tr th {\n",
       "        vertical-align: top;\n",
       "    }\n",
       "\n",
       "    .dataframe thead th {\n",
       "        text-align: right;\n",
       "    }\n",
       "</style>\n",
       "<table border=\"1\" class=\"dataframe\">\n",
       "  <thead>\n",
       "    <tr style=\"text-align: right;\">\n",
       "      <th></th>\n",
       "      <th>country_name</th>\n",
       "      <th>driver_age_raw</th>\n",
       "      <th>driver_age</th>\n",
       "    </tr>\n",
       "  </thead>\n",
       "  <tbody>\n",
       "    <tr>\n",
       "      <th>count</th>\n",
       "      <td>0.0</td>\n",
       "      <td>49588.000000</td>\n",
       "      <td>49346.000000</td>\n",
       "    </tr>\n",
       "    <tr>\n",
       "      <th>mean</th>\n",
       "      <td>NaN</td>\n",
       "      <td>1965.712229</td>\n",
       "      <td>34.171483</td>\n",
       "    </tr>\n",
       "    <tr>\n",
       "      <th>std</th>\n",
       "      <td>NaN</td>\n",
       "      <td>132.195712</td>\n",
       "      <td>12.769907</td>\n",
       "    </tr>\n",
       "    <tr>\n",
       "      <th>min</th>\n",
       "      <td>NaN</td>\n",
       "      <td>0.000000</td>\n",
       "      <td>15.000000</td>\n",
       "    </tr>\n",
       "    <tr>\n",
       "      <th>25%</th>\n",
       "      <td>NaN</td>\n",
       "      <td>1965.000000</td>\n",
       "      <td>23.000000</td>\n",
       "    </tr>\n",
       "    <tr>\n",
       "      <th>50%</th>\n",
       "      <td>NaN</td>\n",
       "      <td>1977.000000</td>\n",
       "      <td>31.000000</td>\n",
       "    </tr>\n",
       "    <tr>\n",
       "      <th>75%</th>\n",
       "      <td>NaN</td>\n",
       "      <td>1985.000000</td>\n",
       "      <td>43.000000</td>\n",
       "    </tr>\n",
       "    <tr>\n",
       "      <th>max</th>\n",
       "      <td>NaN</td>\n",
       "      <td>8801.000000</td>\n",
       "      <td>88.000000</td>\n",
       "    </tr>\n",
       "  </tbody>\n",
       "</table>\n",
       "</div>"
      ],
      "text/plain": [
       "       country_name  driver_age_raw    driver_age\n",
       "count           0.0    49588.000000  49346.000000\n",
       "mean            NaN     1965.712229     34.171483\n",
       "std             NaN      132.195712     12.769907\n",
       "min             NaN        0.000000     15.000000\n",
       "25%             NaN     1965.000000     23.000000\n",
       "50%             NaN     1977.000000     31.000000\n",
       "75%             NaN     1985.000000     43.000000\n",
       "max             NaN     8801.000000     88.000000"
      ]
     },
     "execution_count": 9,
     "metadata": {},
     "output_type": "execute_result"
    }
   ],
   "source": [
    "#Задача №20\n",
    "raw_data.describe()"
   ]
  },
  {
   "cell_type": "code",
   "execution_count": 10,
   "metadata": {},
   "outputs": [
    {
     "data": {
      "text/html": [
       "<div>\n",
       "<style scoped>\n",
       "    .dataframe tbody tr th:only-of-type {\n",
       "        vertical-align: middle;\n",
       "    }\n",
       "\n",
       "    .dataframe tbody tr th {\n",
       "        vertical-align: top;\n",
       "    }\n",
       "\n",
       "    .dataframe thead th {\n",
       "        text-align: right;\n",
       "    }\n",
       "</style>\n",
       "<table border=\"1\" class=\"dataframe\">\n",
       "  <thead>\n",
       "    <tr style=\"text-align: right;\">\n",
       "      <th></th>\n",
       "      <th>country_name</th>\n",
       "      <th>driver_age_raw</th>\n",
       "      <th>driver_age</th>\n",
       "    </tr>\n",
       "  </thead>\n",
       "  <tbody>\n",
       "    <tr>\n",
       "      <th>count</th>\n",
       "      <td>0.0</td>\n",
       "      <td>49588.000000</td>\n",
       "      <td>49346.000000</td>\n",
       "    </tr>\n",
       "    <tr>\n",
       "      <th>mean</th>\n",
       "      <td>NaN</td>\n",
       "      <td>1965.712229</td>\n",
       "      <td>0.262623</td>\n",
       "    </tr>\n",
       "    <tr>\n",
       "      <th>std</th>\n",
       "      <td>NaN</td>\n",
       "      <td>132.195712</td>\n",
       "      <td>0.174930</td>\n",
       "    </tr>\n",
       "    <tr>\n",
       "      <th>min</th>\n",
       "      <td>NaN</td>\n",
       "      <td>0.000000</td>\n",
       "      <td>0.000000</td>\n",
       "    </tr>\n",
       "    <tr>\n",
       "      <th>25%</th>\n",
       "      <td>NaN</td>\n",
       "      <td>1965.000000</td>\n",
       "      <td>0.109589</td>\n",
       "    </tr>\n",
       "    <tr>\n",
       "      <th>50%</th>\n",
       "      <td>NaN</td>\n",
       "      <td>1977.000000</td>\n",
       "      <td>0.219178</td>\n",
       "    </tr>\n",
       "    <tr>\n",
       "      <th>75%</th>\n",
       "      <td>NaN</td>\n",
       "      <td>1985.000000</td>\n",
       "      <td>0.383562</td>\n",
       "    </tr>\n",
       "    <tr>\n",
       "      <th>max</th>\n",
       "      <td>NaN</td>\n",
       "      <td>8801.000000</td>\n",
       "      <td>1.000000</td>\n",
       "    </tr>\n",
       "  </tbody>\n",
       "</table>\n",
       "</div>"
      ],
      "text/plain": [
       "       country_name  driver_age_raw    driver_age\n",
       "count           0.0    49588.000000  49346.000000\n",
       "mean            NaN     1965.712229      0.262623\n",
       "std             NaN      132.195712      0.174930\n",
       "min             NaN        0.000000      0.000000\n",
       "25%             NaN     1965.000000      0.109589\n",
       "50%             NaN     1977.000000      0.219178\n",
       "75%             NaN     1985.000000      0.383562\n",
       "max             NaN     8801.000000      1.000000"
      ]
     },
     "execution_count": 10,
     "metadata": {},
     "output_type": "execute_result"
    }
   ],
   "source": [
    "scaled_data = raw_data.copy()\n",
    "prescaled_drvage = raw_data.driver_age.values.reshape(-1, 1)\n",
    "scaled_drvage = MinMaxScaler().fit_transform(prescaled_drvage)\n",
    "scaled_data['driver_age'] = scaled_drvage\n",
    "scaled_data.describe()"
   ]
  },
  {
   "cell_type": "code",
   "execution_count": 11,
   "metadata": {},
   "outputs": [
    {
     "data": {
      "image/png": "[encoded data removed]",
      "text/plain": [
       "<Figure size 432x288 with 1 Axes>"
      ]
     },
     "metadata": {},
     "output_type": "display_data"
    }
   ],
   "source": [
    "#Доп задание построить график \"Ящик с усами (boxplot)\"\n",
    "\n",
    "sns.boxplot(x=raw_data.driver_age) \n",
    "plt.show()"
   ]
  }
 ],
 "metadata": {
  "kernelspec": {
   "display_name": "Python 3",
   "language": "python",
   "name": "python3"
  },
  "language_info": {
   "codemirror_mode": {
    "name": "ipython",
    "version": 3
   },
   "file_extension": ".py",
   "mimetype": "text/x-python",
   "name": "python",
   "nbconvert_exporter": "python",
   "pygments_lexer": "ipython3",
   "version": "3.7.5"
  }
 },
 "nbformat": 4,
 "nbformat_minor": 4
}
